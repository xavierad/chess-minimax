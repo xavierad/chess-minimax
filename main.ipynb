{
 "cells": [
  {
   "cell_type": "code",
   "execution_count": 1,
   "id": "bc2f957f",
   "metadata": {},
   "outputs": [],
   "source": [
    "from chess import Move\n",
    "from board.board_wrapper import BoardWrapper\n",
    "from minimax import find_best_move \n",
    "\n",
    "state: BoardWrapper = BoardWrapper()\n",
    "move: Move\n",
    "move_uci: str\n",
    "\n",
    "ai_player: bool = False\n"
   ]
  },
  {
   "cell_type": "code",
   "execution_count": null,
   "id": "aaf2e11e",
   "metadata": {},
   "outputs": [
    {
     "name": "stdout",
     "output_type": "stream",
     "text": [
      "Your move (from UCI format): e2e4\n",
      "e2e4\n",
      "e7e6\n"
     ]
    }
   ],
   "source": [
    "while not state.is_over():\n",
    "    state\n",
    "\n",
    "    if ai_player:\n",
    "        move = find_best_move(maximize=False, depth=2, state=state) \n",
    "    \n",
    "    else: \n",
    "        move_uci = str(input('Your move (from UCI format): '))\n",
    "        move = Move.from_uci(move_uci)\n",
    "    \n",
    "    state.make_move(move)\n",
    "    print(move.uci())\n",
    "    \n",
    "    ai_player = not ai_player"
   ]
  },
  {
   "cell_type": "code",
   "execution_count": null,
   "id": "df019149",
   "metadata": {},
   "outputs": [],
   "source": [
    "state"
   ]
  },
  {
   "cell_type": "code",
   "execution_count": null,
   "id": "9cee3a66",
   "metadata": {},
   "outputs": [],
   "source": []
  }
 ],
 "metadata": {
  "kernelspec": {
   "display_name": "Python [conda env:chess-minimax] *",
   "language": "python",
   "name": "conda-env-chess-minimax-py"
  },
  "language_info": {
   "codemirror_mode": {
    "name": "ipython",
    "version": 3
   },
   "file_extension": ".py",
   "mimetype": "text/x-python",
   "name": "python",
   "nbconvert_exporter": "python",
   "pygments_lexer": "ipython3",
   "version": "3.10.10"
  }
 },
 "nbformat": 4,
 "nbformat_minor": 5
}
